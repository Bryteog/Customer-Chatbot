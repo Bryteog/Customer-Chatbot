{
 "cells": [
  {
   "cell_type": "code",
   "execution_count": 1,
   "metadata": {},
   "outputs": [
    {
     "name": "stdout",
     "output_type": "stream",
     "text": [
      "WARNING:tensorflow:From c:\\Users\\dell\\miniconda3\\envs\\tf_cpu\\Lib\\site-packages\\tensorflow\\python\\compat\\v2_compat.py:108: disable_resource_variables (from tensorflow.python.ops.variable_scope) is deprecated and will be removed in a future version.\n",
      "Instructions for updating:\n",
      "non-resource variables are not supported in the long term\n",
      "curses is not supported on this machine (please install/reinstall curses for an optimal experience)\n"
     ]
    }
   ],
   "source": [
    "import numpy as np\n",
    "import random\n",
    "import nltk\n",
    "import json\n",
    "import pickle\n",
    "from nltk.stem.lancaster import LancasterStemmer\n",
    "import tflearn\n",
    "import tensorflow as tf\n",
    "from tensorflow.python.framework import ops\n",
    "stemmer = LancasterStemmer()"
   ]
  },
  {
   "cell_type": "code",
   "execution_count": 2,
   "metadata": {},
   "outputs": [],
   "source": [
    "with open(\"intents.json\") as json_data:\n",
    "    intents = json.load(json_data)"
   ]
  },
  {
   "cell_type": "code",
   "execution_count": 3,
   "metadata": {},
   "outputs": [
    {
     "name": "stdout",
     "output_type": "stream",
     "text": [
      "27 documents\n",
      "9 classes ['goodbye', 'greeting', 'hours', 'mopeds', 'opentoday', 'payments', 'rental', 'thanks', 'today']\n",
      "48 unique stemmed words [\"'d\", \"'s\", 'a', 'acceiv', 'anyon', 'ar', 'bye', 'can', 'card', 'cash', 'credit', 'day', 'do', 'doe', 'good', 'goodby', 'hav', 'hello', 'help', 'hi', 'hour', 'how', 'i', 'is', 'kind', 'lat', 'lik', 'mastercard', 'mop', 'of', 'on', 'op', 'rent', 'see', 'tak', 'thank', 'that', 'ther', 'thi', 'to', 'today', 'we', 'what', 'when', 'which', 'work', 'yo', 'you']\n"
     ]
    }
   ],
   "source": [
    "words = []\n",
    "classes = []\n",
    "documents = []\n",
    "ignore_words = ['?']\n",
    "\n",
    "# loop through sentence in our intents patterns\n",
    "# tokenize each word, add to words list, add to documents in corpus and add to classes list\n",
    "for intent in intents['intents']:\n",
    "    for pattern in intent['patterns']:\n",
    "        w = nltk.word_tokenize(pattern)\n",
    "        words.extend(w)\n",
    "        documents.append((w, intent['tag']))\n",
    "        if intent['tag'] not in classes:\n",
    "            classes.append(intent['tag'])\n",
    "            \n",
    "# find stem for each word, lower and remove duplicates\n",
    "words = [stemmer.stem(w.lower()) for w in words if w not in ignore_words]\n",
    "words = sorted(list(set(words)))\n",
    "\n",
    "# remove duplicates\n",
    "classes = sorted(list(set(classes)))\n",
    "\n",
    "print(len(documents), \"documents\")\n",
    "print(len(classes), \"classes\", classes)\n",
    "print(len(words), \"unique stemmed words\", words)"
   ]
  },
  {
   "cell_type": "code",
   "execution_count": 4,
   "metadata": {},
   "outputs": [],
   "source": [
    "# create training data and array for output\n",
    "training = []\n",
    "output = []\n",
    "output_empty = [0] * len(classes)\n",
    "\n",
    "for doc in documents:\n",
    "    # initialise bag of words\n",
    "    bag = []\n",
    "    # list of tokenised_words\n",
    "    tokenized_words = doc[0]\n",
    "    # stem and lower each word\n",
    "    tokenized_words = [stemmer.stem(word.lower()) for word in tokenized_words]\n",
    "    # create bag of words array\n",
    "    for w in words:\n",
    "        bag.append(1) if w in tokenized_words else bag.append(0)\n",
    "        \n",
    "    # output is a '0' for each tag and '1' for current tag        \n",
    "    output_row = list(output_empty)\n",
    "    output_row[classes.index(doc[1])] = 1\n",
    "    \n",
    "    training.append([bag, output_row])\n",
    "    \n",
    "# shuffle and convert to array    \n",
    "random.shuffle(training)\n",
    "Data_type = object\n",
    "training = np.array(training, dtype = Data_type)\n",
    "\n",
    "X_train = list(training[:, 0])\n",
    "y_train = list(training[:, 1])"
   ]
  },
  {
   "cell_type": "code",
   "execution_count": 5,
   "metadata": {},
   "outputs": [],
   "source": [
    "ops.reset_default_graph()"
   ]
  },
  {
   "cell_type": "code",
   "execution_count": 6,
   "metadata": {},
   "outputs": [
    {
     "name": "stdout",
     "output_type": "stream",
     "text": [
      "Training Step: 3999  | total loss: \u001b[1m\u001b[32m1.09123\u001b[0m\u001b[0m | time: 0.010s\n",
      "| Adam | epoch: 1000 | loss: 1.09123 - acc: 0.9373 -- iter: 24/27\n",
      "Training Step: 4000  | total loss: \u001b[1m\u001b[32m0.98443\u001b[0m\u001b[0m | time: 0.014s\n",
      "| Adam | epoch: 1000 | loss: 0.98443 - acc: 0.9435 -- iter: 27/27\n",
      "--\n",
      "INFO:tensorflow:c:\\Users\\dell\\Moon\\Chatbot\\outputs\\model.tflearn is not in all_model_checkpoint_paths. Manually adding it.\n"
     ]
    }
   ],
   "source": [
    "# build network\n",
    "net = tflearn.input_data(shape = [None, len(X_train[0])])\n",
    "net = tflearn.fully_connected(net, 8)\n",
    "net = tflearn.fully_connected(net, 8)\n",
    "net = tflearn.fully_connected(net, len(y_train[0]), activation = 'softmax')\n",
    "net = tflearn.regression(net)\n",
    "\n",
    "# define model and train\n",
    "model = tflearn.DNN(net)\n",
    "model.fit(X_train, y_train, n_epoch = 1000, batch_size = 8, show_metric = True)\n",
    "model.save('../outputs/model.tflearn')"
   ]
  },
  {
   "cell_type": "code",
   "execution_count": 7,
   "metadata": {},
   "outputs": [],
   "source": [
    "# save model\n",
    "pickle.dump({'words' : words, 'classes' : classes, 'X_train' : X_train, 'y_train' : y_train}, open(\"training_data\", \"wb\"))"
   ]
  },
  {
   "cell_type": "code",
   "execution_count": 8,
   "metadata": {},
   "outputs": [],
   "source": [
    "data = pickle.load(open(\"training_data\", \"rb\"))\n",
    "words = data['words']\n",
    "classes = data['classes']\n",
    "X_train = data['X_train']\n",
    "y_train = data['y_train']\n",
    "\n",
    "with open('intents.json') as json_data:\n",
    "    intents = json.load(json_data)"
   ]
  },
  {
   "cell_type": "code",
   "execution_count": 9,
   "metadata": {},
   "outputs": [
    {
     "name": "stdout",
     "output_type": "stream",
     "text": [
      "INFO:tensorflow:Restoring parameters from c:\\Users\\dell\\Moon\\Chatbot\\outputs\\model.tflearn\n"
     ]
    }
   ],
   "source": [
    "# load model\n",
    "model.load('../outputs/model.tflearn')"
   ]
  },
  {
   "cell_type": "code",
   "execution_count": 10,
   "metadata": {},
   "outputs": [],
   "source": [
    "def get_sentences(sentence):\n",
    "    # tokenise the pattern and stem words\n",
    "    sentence_words = nltk.word_tokenize(sentence)\n",
    "    sentence_words = [stemmer.stem(word.lower()) for word in sentence_words]\n",
    "    return sentence_words\n",
    "\n",
    "\n",
    "# get bag of words\n",
    "def bags(sentence, words, show_details = False):\n",
    "    sentence_words = get_sentences(sentence)\n",
    "    bag = [0] * len(words)\n",
    "    for s in sentence_words:\n",
    "        for i , w in enumerate(words):\n",
    "            if w == s:\n",
    "                bag[i] = 1\n",
    "                if show_details:\n",
    "                    print(\"found in bag: %s\" %w)\n",
    "                    \n",
    "    return(np.array(bag))"
   ]
  },
  {
   "cell_type": "code",
   "execution_count": 11,
   "metadata": {},
   "outputs": [],
   "source": [
    "ERROR_THRESHOLD = 0.25\n",
    "\n",
    "# generate probabilities from the model and filter out predictions below a threshold\n",
    "def classify(sentence):\n",
    "    results = model.predict([bags(sentence, words)])[0]\n",
    "    reults = [[i, r] for i, r in enumerate(results) if r > ERROR_THRESHOLD]\n",
    "    # sort by strength of probsbility\n",
    "    results.sort(key = lambda x: x[1], reverse = True)\n",
    "    return_list = []\n",
    "    for r in results:\n",
    "        return_list.append((classes[r[0]], r[1]))\n",
    "    return return_list\n",
    "\n",
    "def response(sentence, userID = '123', show_details = False):\n",
    "    results = classify(sentence)\n",
    "    # if we have a classification, find a matching intent tag\n",
    "    if results:\n",
    "        # loop as long as there are matches\n",
    "        while results:\n",
    "            for i in intents['intents']:\n",
    "                # find a tag matching the first result\n",
    "                if i['tag'] == results[0][0]:\n",
    "                    # get response\n",
    "                    return print(random.choice(i['responses']))\n",
    "                \n",
    "            results.pop(0)"
   ]
  },
  {
   "cell_type": "code",
   "execution_count": 12,
   "metadata": {},
   "outputs": [],
   "source": [
    "# define structure to hold user content\n",
    "context = {}\n",
    "\n",
    "ERROR_THRESHOLD = 0.25\n",
    "def classify(sentence):\n",
    "    # get probabilities from the model\n",
    "    results = model.predict([bags(sentence, words)])[0]\n",
    "    # filter out probabilities from the model\n",
    "    results = [[i, r] for i, r in enumerate(results) if r > ERROR_THRESHOLD]\n",
    "    # sort by probability strength\n",
    "    results.sort(key = lambda x: x[1], reverse = True)\n",
    "    return_list = []\n",
    "    for r in results:\n",
    "        return_list.append((classes[r[0]], r[1]))\n",
    "    # return intent and probability\n",
    "    return return_list\n",
    "\n",
    "def response(sentence, userID = '123', show_details = False):\n",
    "    results = classify(sentence)\n",
    "    # if there's a classification find the intent tag\n",
    "    if results:\n",
    "        # loop as long as there are matches to process\n",
    "        while results:\n",
    "            for i in intents['intents']:\n",
    "                # find a tag matching first result\n",
    "                if i['tag'] == results[0][0]:\n",
    "                    # set context for intent\n",
    "                    if 'context_set' in i:\n",
    "                        if show_details: print('context:', i['context_set'])\n",
    "                        context[userID] = i['context_set']\n",
    "                        \n",
    "                    # check if intent fits the context of user conversation\n",
    "                    if not 'context_filter' in i or (userID in context and 'context_filter' in i and i['context_filter'] == context[userID]):\n",
    "                        if show_details: print('tag:', i['tag'])\n",
    "                        return print(random.choice(i['responses']))\n",
    "    \n",
    "            results.pop(0)"
   ]
  },
  {
   "cell_type": "code",
   "execution_count": 13,
   "metadata": {},
   "outputs": [
    {
     "name": "stdout",
     "output_type": "stream",
     "text": [
      "Are you looking to rent today or later this week?\n",
      "Same-day rentals please call 1-800-MYMOPED\n"
     ]
    },
    {
     "data": {
      "text/plain": [
       "[('today', 0.9171227)]"
      ]
     },
     "execution_count": 13,
     "metadata": {},
     "output_type": "execute_result"
    }
   ],
   "source": [
    "response('we want to rent a moped')\n",
    "response('today')\n",
    "classify('today')"
   ]
  },
  {
   "cell_type": "code",
   "execution_count": 14,
   "metadata": {},
   "outputs": [
    {
     "name": "stdout",
     "output_type": "stream",
     "text": [
      "context: \n",
      "tag: greeting\n",
      "Good to see you again\n"
     ]
    }
   ],
   "source": [
    "response(\"Hi there!\", show_details=True)"
   ]
  },
  {
   "cell_type": "code",
   "execution_count": 16,
   "metadata": {},
   "outputs": [
    {
     "name": "stdout",
     "output_type": "stream",
     "text": [
      "My pleasure\n"
     ]
    }
   ],
   "source": [
    "response(\"thanks\")"
   ]
  },
  {
   "cell_type": "code",
   "execution_count": null,
   "metadata": {},
   "outputs": [],
   "source": []
  }
 ],
 "metadata": {
  "kernelspec": {
   "display_name": "tf_cpu",
   "language": "python",
   "name": "python3"
  },
  "language_info": {
   "codemirror_mode": {
    "name": "ipython",
    "version": 3
   },
   "file_extension": ".py",
   "mimetype": "text/x-python",
   "name": "python",
   "nbconvert_exporter": "python",
   "pygments_lexer": "ipython3",
   "version": "3.11.5"
  },
  "orig_nbformat": 4
 },
 "nbformat": 4,
 "nbformat_minor": 2
}
